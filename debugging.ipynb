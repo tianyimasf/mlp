{
 "cells": [
  {
   "cell_type": "code",
   "execution_count": 2,
   "id": "contained-mineral",
   "metadata": {},
   "outputs": [],
   "source": [
    "import numpy as np"
   ]
  },
  {
   "cell_type": "code",
   "execution_count": 3,
   "id": "proof-contest",
   "metadata": {},
   "outputs": [],
   "source": [
    "n = 773.39780554"
   ]
  },
  {
   "cell_type": "code",
   "execution_count": 4,
   "id": "dried-beijing",
   "metadata": {},
   "outputs": [],
   "source": [
    "def tanh(x):\n",
    "    return (np.exp(x)-np.exp(-x))/(np.exp(x)+np.exp(-x))"
   ]
  },
  {
   "cell_type": "code",
   "execution_count": 5,
   "id": "threaded-toronto",
   "metadata": {},
   "outputs": [
    {
     "name": "stderr",
     "output_type": "stream",
     "text": [
      "<ipython-input-4-f07333b7bafb>:2: RuntimeWarning: overflow encountered in exp\n",
      "  return (np.exp(x)-np.exp(-x))/(np.exp(x)+np.exp(-x))\n",
      "<ipython-input-4-f07333b7bafb>:2: RuntimeWarning: invalid value encountered in double_scalars\n",
      "  return (np.exp(x)-np.exp(-x))/(np.exp(x)+np.exp(-x))\n"
     ]
    },
    {
     "data": {
      "text/plain": [
       "nan"
      ]
     },
     "execution_count": 5,
     "metadata": {},
     "output_type": "execute_result"
    }
   ],
   "source": [
    "tanh(n)"
   ]
  },
  {
   "cell_type": "code",
   "execution_count": 6,
   "id": "ongoing-veteran",
   "metadata": {},
   "outputs": [
    {
     "data": {
      "text/plain": [
       "1.0"
      ]
     },
     "execution_count": 6,
     "metadata": {},
     "output_type": "execute_result"
    }
   ],
   "source": [
    "tanh(53.72646893)"
   ]
  },
  {
   "cell_type": "code",
   "execution_count": 7,
   "id": "sonic-adobe",
   "metadata": {},
   "outputs": [
    {
     "data": {
      "text/plain": [
       "0.478407164"
      ]
     },
     "execution_count": 7,
     "metadata": {},
     "output_type": "execute_result"
    }
   ],
   "source": [
    "4.78407164e-01"
   ]
  },
  {
   "cell_type": "code",
   "execution_count": 4,
   "id": "legendary-frank",
   "metadata": {},
   "outputs": [],
   "source": [
    "z_j = 0.56875438\n",
    "w_kj = [0.03583817, 0.27608282]\n",
    "delta_k = [0.00985763, -0.00985763]\n",
    "delta_j = (1-z_j**2)*np.dot(delta_k, w_kj)"
   ]
  },
  {
   "cell_type": "code",
   "execution_count": 5,
   "id": "peaceful-concern",
   "metadata": {},
   "outputs": [
    {
     "data": {
      "text/plain": [
       "-0.0023682428691795"
      ]
     },
     "execution_count": 5,
     "metadata": {},
     "output_type": "execute_result"
    }
   ],
   "source": [
    "0.03583817*0.00985763+0.27608282*-0.00985763"
   ]
  },
  {
   "cell_type": "code",
   "execution_count": 6,
   "id": "encouraging-progress",
   "metadata": {},
   "outputs": [
    {
     "data": {
      "text/plain": [
       "-0.0023682428691795"
      ]
     },
     "execution_count": 6,
     "metadata": {},
     "output_type": "execute_result"
    }
   ],
   "source": [
    "np.dot(delta_k, w_kj)"
   ]
  },
  {
   "cell_type": "code",
   "execution_count": 8,
   "id": "crude-heart",
   "metadata": {},
   "outputs": [
    {
     "data": {
      "text/plain": [
       "-0.18677680962068824"
      ]
     },
     "execution_count": 8,
     "metadata": {},
     "output_type": "execute_result"
    }
   ],
   "source": [
    "delta_j*116.578125"
   ]
  },
  {
   "cell_type": "code",
   "execution_count": 9,
   "id": "quality-elder",
   "metadata": {},
   "outputs": [
    {
     "data": {
      "text/plain": [
       "-271.13418808835456"
      ]
     },
     "execution_count": 9,
     "metadata": {},
     "output_type": "execute_result"
    }
   ],
   "source": [
    "x = [97.9609375,40.96061415,0.48605321,1.98980372,0.94899666,12.69634717,15.34518559,255.4882748]\n",
    "W1 = [-5.80468044e-01,7.76008595e-01,5.17779766e-01,3.78936904e-01,6.20937318e-01,-8.32309679e-01,8.04420248e-01,-9.76281258e-01]\n",
    "np.dot(x, W1)"
   ]
  },
  {
   "cell_type": "code",
   "execution_count": null,
   "id": "detailed-finish",
   "metadata": {},
   "outputs": [],
   "source": []
  }
 ],
 "metadata": {
  "kernelspec": {
   "display_name": "Python 3",
   "language": "python",
   "name": "python3"
  },
  "language_info": {
   "codemirror_mode": {
    "name": "ipython",
    "version": 3
   },
   "file_extension": ".py",
   "mimetype": "text/x-python",
   "name": "python",
   "nbconvert_exporter": "python",
   "pygments_lexer": "ipython3",
   "version": "3.9.1"
  }
 },
 "nbformat": 4,
 "nbformat_minor": 5
}
